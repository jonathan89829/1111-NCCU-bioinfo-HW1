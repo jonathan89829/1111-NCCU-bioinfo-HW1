{
 "cells": [
  {
   "cell_type": "code",
   "execution_count": 11,
   "id": "b266d0c0",
   "metadata": {},
   "outputs": [
    {
     "name": "stderr",
     "output_type": "stream",
     "text": [
      "usage: ipykernel_launcher.py [-h] [--input INPUT] [--pam PAM] [--output OUTPUT]\n",
      "ipykernel_launcher.py: error: unrecognized arguments: -f C:\\Users\\ASUS\\AppData\\Roaming\\jupyter\\runtime\\kernel-a500b9d2-c645-41d7-922b-7db2560ffac6.json\n"
     ]
    },
    {
     "ename": "SystemExit",
     "evalue": "2",
     "output_type": "error",
     "traceback": [
      "An exception has occurred, use %tb to see the full traceback.\n",
      "\u001b[1;31mSystemExit\u001b[0m\u001b[1;31m:\u001b[0m 2\n"
     ]
    }
   ],
   "source": [
    "import argparse\n",
    "import numpy as np\n",
    "import math\n",
    "\n",
    "\n",
    "parser = argparse.ArgumentParser()\n",
    "parser.add_argument(\"--input\", type=str, help=\"inputmatrixpath, pls enter a path\")\n",
    "parser.add_argument(\"--pam\", type=int, help=\"pamnumber\")\n",
    "parser.add_argument(\"--output\", type=str, help=\"outputmatrixpath, pls enter a path\")\n",
    "args = parser.parse_args(args=[])\n",
    "print(args.pam)\n",
    "# Read file\n",
    "file = open(args.input, \"r\")\n",
    "data = file.readlines()\n",
    "file.close()\n",
    "\n",
    "# Put the data into a matrix\n",
    "m = np.zeros((20, 20))\n",
    "for i in range(2, 22):\n",
    "    s = data[i].rstrip()\n",
    "    rowData = s.split()\n",
    "    del rowData[0]\n",
    "    for j in range(len(rowData)):\n",
    "        m[i - 2][j] = int(rowData[j])\n",
    "        \n",
    "# Frequencies\n",
    "f = [0.087, 0.041, 0.040, 0.047, 0.033, 0.038, 0.050, 0.089, 0.034, 0.037, 0.085, 0.081, 0.015, 0.040, 0.051, 0.070, 0.058, 0.010, 0.030, 0.065]\n",
    "\n",
    "# Input the number x for PAMx\n",
    "x = args.pam\n",
    "\n",
    "# Caculate Mx\n",
    "m = m /10000\n",
    "mx = m\n",
    "for i in range(x - 1):\n",
    "    mx = np.matmul(mx, m)\n",
    "\n",
    "# Caculate PAMx\n",
    "pamx = np.zeros((20, 20))\n",
    "for i in range(20):\n",
    "    for j in range(20):\n",
    "        if mx[i][j] == 0:\n",
    "            pamx[i][j] = 0\n",
    "        else:\n",
    "            r = mx[i][j] / f[i]\n",
    "            pamx[i][j] = 10 * math.log(r, 10)\n",
    "pamx = np.around(pamx)\n",
    "pamx = pamx.astype(int)\n",
    "np.set_printoptions(precision=4)\n",
    "pamx = pamx.astype(str)\n",
    "\n",
    "# Add the amino acid into the matrix\n",
    "aminoAcidR = np.array([\"A\", \"R\", \"N\", \"D\", \"C\", \"Q\", \"E\", \"G\", \"H\", \"I\", \"L\", \"K\", \"M\", \"F\", \"P\", \"S\", \"T\", \"W\", \"Y\", \"V\"])\n",
    "aminoAcidC = np.array([\" \", \"A\", \"R\", \"N\", \"D\", \"C\", \"Q\", \"E\", \"G\", \"H\", \"I\", \"L\", \"K\", \"M\", \"F\", \"P\", \"S\", \"T\", \"W\", \"Y\", \"V\"])\n",
    "pamx = np.insert(pamx, 0, aminoAcidR, axis = 0)\n",
    "pamx = np.insert(pamx, 0, aminoAcidC, axis = 1)\n",
    "\n",
    "# Write the matrix into the txt file\n",
    "np.savetxt(args.output, pamx, fmt = '%4s')\n",
    "\n",
    "    "
   ]
  },
  {
   "cell_type": "code",
   "execution_count": 12,
   "id": "453380ec",
   "metadata": {},
   "outputs": [
    {
     "ename": "SyntaxError",
     "evalue": "invalid decimal literal (1528879227.py, line 1)",
     "output_type": "error",
     "traceback": [
      "\u001b[1;36m  Input \u001b[1;32mIn [12]\u001b[1;36m\u001b[0m\n\u001b[1;33m    python3 111753156_hw1.py --input 'C:\\Users\\ASUS\\Desktop\\生物資訊\\hw1\\mut.txt' --pam 250 --output 'C:\\Users\\ASUS\\Desktop\\生物資訊\\hw1\\pamx.txt'\u001b[0m\n\u001b[1;37m                     ^\u001b[0m\n\u001b[1;31mSyntaxError\u001b[0m\u001b[1;31m:\u001b[0m invalid decimal literal\n"
     ]
    }
   ],
   "source": [
    "python3 111753156_hw1.py --input 'C:\\Users\\ASUS\\Desktop\\生物資訊\\hw1\\mut.txt' --pam 250 --output 'C:\\Users\\ASUS\\Desktop\\生物資訊\\hw1\\pamx.txt'"
   ]
  },
  {
   "cell_type": "code",
   "execution_count": null,
   "id": "68d06417",
   "metadata": {},
   "outputs": [],
   "source": []
  }
 ],
 "metadata": {
  "kernelspec": {
   "display_name": "Python 3 (ipykernel)",
   "language": "python",
   "name": "python3"
  },
  "language_info": {
   "codemirror_mode": {
    "name": "ipython",
    "version": 3
   },
   "file_extension": ".py",
   "mimetype": "text/x-python",
   "name": "python",
   "nbconvert_exporter": "python",
   "pygments_lexer": "ipython3",
   "version": "3.9.12"
  }
 },
 "nbformat": 4,
 "nbformat_minor": 5
}
